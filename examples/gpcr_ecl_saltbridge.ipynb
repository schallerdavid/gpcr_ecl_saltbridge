{
 "cells": [
  {
   "cell_type": "markdown",
   "metadata": {},
   "source": [
    "# Identify saltbridges between extracellular loops 2 and 3 of GPCR\n",
    "\n",
    "This notebook shows how to identify saltbridges between extracellular loops 2 and 3 of GPCR structures deposited in the [PDB](https://www.rcsb.org/). The main work is done by a single function: `get_salt_bridges`."
   ]
  },
  {
   "cell_type": "code",
   "execution_count": 1,
   "metadata": {},
   "outputs": [],
   "source": [
    "from gpcr_ecl_saltbridge.gpcr_ecl_saltbridge import get_salt_bridges"
   ]
  },
  {
   "cell_type": "code",
   "execution_count": 2,
   "metadata": {},
   "outputs": [
    {
     "name": "stderr",
     "output_type": "stream",
     "text": [
      "100%|██████████| 486/486 [02:00<00:00,  4.03it/s]\n"
     ]
    }
   ],
   "source": [
    "salt_bridges_dict = get_salt_bridges()"
   ]
  },
  {
   "cell_type": "code",
   "execution_count": 3,
   "metadata": {},
   "outputs": [
    {
     "name": "stdout",
     "output_type": "stream",
     "text": [
      "5ht2b_human : 5TVN 5TUD 6DRY\n",
      "5ht2a_human : 6WGT 6A94 6WH4\n",
      "adrb1_melga : 2Y03 2YCZ 6H7M 6H7J 3ZPQ 3ZPR 2Y04 2Y00 5F8U 4AMJ 2Y02 2YCX 4BVN 5A8E 2YCY 2VT4 7JJO 6H7N 6IBL 4AMI 6H7O 2YCW 6H7L\n",
      "adrb2_human : 6PRZ 5D6L 5D5A 4LDL 3D4S 2RH1 6PS5 4GBR 5JQH 5D5B 3NYA 6MXT 6N48 4LDE 6E67 4LDO 3PDS 6OBA 6PS2 3P0G 6PS4 3NY9 4QKX\n",
      "aa2ar_human : 5OLH 5IU7 6GT3 6ZDV 5K2D 4UHR 2YDV 5IU4 4EIY 3EML 5K2C 5IUB 5MZP 5VRA 5IU8 5MZJ 5NM2 3VGA 5OM4 5OLG 6AQF 6S0Q 5NM4 5OLZ 5OLV 3VG9 5UIG 2YDO 6MH8 5JTB 5IUA 5UVI 6JZH 5K2B 6ZDR 5K2A 5OM1 4UG2 6PS7 5NLX 5G53\n",
      "gabr2_human : 7C7Q 6UO8 6W2X 7C7S 6VJM\n",
      "glp1r_human : 6X1A\n",
      "acm3_rat : 4DAJ\n",
      "cnr1_human : 5XR8\n",
      "npy1r_human : 5ZBQ\n",
      "aa1r_human : 5N2S\n"
     ]
    }
   ],
   "source": [
    "for protein_name in salt_bridges_dict.keys():\n",
    "    print(protein_name, ':', *salt_bridges_dict[protein_name])"
   ]
  }
 ],
 "metadata": {
  "kernelspec": {
   "display_name": "Python 3",
   "language": "python",
   "name": "python3"
  },
  "language_info": {
   "codemirror_mode": {
    "name": "ipython",
    "version": 3
   },
   "file_extension": ".py",
   "mimetype": "text/x-python",
   "name": "python",
   "nbconvert_exporter": "python",
   "pygments_lexer": "ipython3",
   "version": "3.7.8"
  }
 },
 "nbformat": 4,
 "nbformat_minor": 4
}
